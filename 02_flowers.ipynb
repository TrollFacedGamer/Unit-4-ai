{
 "cells": [
  {
   "cell_type": "code",
   "execution_count": 58,
   "metadata": {},
   "outputs": [],
   "source": [
    "import os\n",
    "import pandas as pd\n",
    "import numpy as np\n",
    "import matplotlib.pyplot as plt\n",
    "\n",
    "import tensorflow as tf\n",
    "from tensorflow.keras.preprocessing.image import ImageDataGenerator\n",
    "from tensorflow.keras.applications.efficientnet import EfficientNetB3\n",
    "from tensorflow.keras import layers\n",
    "from tensorflow.keras.optimizers import Adamax\n",
    "\n",
    "from tensorflow.keras.callbacks import EarlyStopping, ReduceLROnPlateau"
   ]
  },
  {
   "cell_type": "code",
   "execution_count": 59,
   "metadata": {},
   "outputs": [
    {
     "name": "stdout",
     "output_type": "stream",
     "text": [
      "                                             file_path   label\n",
      "0       flower_photos/roses/16209331331_343c899d38.jpg   roses\n",
      "1        flower_photos/roses/5777669976_a205f61e5b.jpg   roses\n",
      "2      flower_photos/roses/4860145119_b1c3cbaa4e_n.jpg   roses\n",
      "3       flower_photos/roses/15011625580_7974c44bce.jpg   roses\n",
      "4     flower_photos/roses/17953368844_be3d18cf30_m.jpg   roses\n",
      "...                                                ...     ...\n",
      "3665     flower_photos/tulips/134143359_71fa8dd9a4.jpg  tulips\n",
      "3666    flower_photos/tulips/3637371174_a8dfcc1b35.jpg  tulips\n",
      "3667  flower_photos/tulips/6948239566_0ac0a124ee_n.jpg  tulips\n",
      "3668    flower_photos/tulips/2834890466_1cf220fba1.jpg  tulips\n",
      "3669   flower_photos/tulips/13953090784_0c7d7a904e.jpg  tulips\n",
      "\n",
      "[3670 rows x 2 columns]\n"
     ]
    }
   ],
   "source": [
    "data = []\n",
    "for dir, x, files in os.walk(\"flower_photos\"):\n",
    "    label = dir.split(\"/\")[-1]\n",
    "    for file in files:\n",
    "        path = os.path.join(dir, file)\n",
    "        data.append([path, label])\n",
    "\n",
    "df = pd.DataFrame(data, columns = [\"file_path\", \"label\"])\n",
    "print(df)"
   ]
  },
  {
   "cell_type": "code",
   "execution_count": 60,
   "metadata": {},
   "outputs": [],
   "source": [
    "datagen = ImageDataGenerator(\n",
    "    validation_split = 0.2\n",
    ")"
   ]
  },
  {
   "cell_type": "code",
   "execution_count": 61,
   "metadata": {},
   "outputs": [
    {
     "name": "stdout",
     "output_type": "stream",
     "text": [
      "Found 2936 validated image filenames belonging to 5 classes.\n",
      "Found 734 validated image filenames belonging to 5 classes.\n"
     ]
    }
   ],
   "source": [
    "train_gen = datagen.flow_from_dataframe(\n",
    "    dataframe = df,\n",
    "    x_col = \"file_path\",\n",
    "    y_col = \"label\",\n",
    "    target_size = (224, 224),\n",
    "    color_mode = \"rgb\",\n",
    "    batch_size = 32,\n",
    "    class_mode = \"categorical\",\n",
    "    shuffle = True,\n",
    "    subset = \"training\",\n",
    ")\n",
    "vaild_gen = datagen.flow_from_dataframe(\n",
    "    dataframe = df,\n",
    "    x_col = \"file_path\",\n",
    "    y_col = \"label\",\n",
    "    target_size = (224, 224),\n",
    "    color_mode = \"rgb\",\n",
    "    batch_size = 32,\n",
    "    class_mode = \"categorical\",\n",
    "    shuffle = True,\n",
    "    subset = \"validation\",\n",
    ")\n"
   ]
  },
  {
   "cell_type": "code",
   "execution_count": 62,
   "metadata": {},
   "outputs": [],
   "source": [
    "base_model = EfficientNetB3(\n",
    "    include_top= False, \n",
    "    weights='imagenet',\n",
    "    input_shape=(224, 224, 3), \n",
    "    pooling='max'\n",
    ")\n",
    "\n",
    "model = tf.keras.models.Sequential([\n",
    "    base_model,\n",
    "    layers.BatchNormalization(),\n",
    "    layers.Dense(256, activation='relu'),\n",
    "    layers.Dropout(rate=.45, seed=123),\n",
    "    layers.Dense(5, activation='softmax')\n",
    "])\n",
    "\n",
    "\n",
    "model.compile(\n",
    "    Adamax(learning_rate= .0001), \n",
    "    loss = 'categorical_crossentropy',\n",
    "    metrics=[\n",
    "        'acc', \n",
    "        tf.keras.metrics.Precision(), \n",
    "        tf.keras.metrics.Recall(), \n",
    "        tf.keras.metrics.AUC()\n",
    "    ]\n",
    ")"
   ]
  },
  {
   "cell_type": "code",
   "execution_count": 63,
   "metadata": {},
   "outputs": [],
   "source": [
    "early_stopping = EarlyStopping(\n",
    "    patience = 10,\n",
    "    min_delta = 0,\n",
    "    monitor = \"val_loss\",\n",
    "    verbose = 0,\n",
    "    restore_best_weights = True,\n",
    "    baseline = None\n",
    ")"
   ]
  },
  {
   "cell_type": "code",
   "execution_count": 56,
   "metadata": {},
   "outputs": [
    {
     "name": "stderr",
     "output_type": "stream",
     "text": [
      "/Users/Cohort23/Library/Python/3.10/lib/python/site-packages/keras/src/trainers/data_adapters/py_dataset_adapter.py:121: UserWarning: Your `PyDataset` class should call `super().__init__(**kwargs)` in its constructor. `**kwargs` can include `workers`, `use_multiprocessing`, `max_queue_size`. Do not pass these arguments to `fit()`, as they will be ignored.\n",
      "  self._warn_if_super_not_called()\n"
     ]
    },
    {
     "name": "stdout",
     "output_type": "stream",
     "text": [
      "Epoch 1/5\n",
      "\u001b[1m92/92\u001b[0m \u001b[32m━━━━━━━━━━━━━━━━━━━━\u001b[0m\u001b[37m\u001b[0m \u001b[1m345s\u001b[0m 4s/step - acc: 0.4156 - auc_1: 0.7130 - loss: 1.6639 - precision_1: 0.4789 - recall_1: 0.3164 - val_acc: 0.0954 - val_auc_1: 0.3032 - val_loss: 3.9230 - val_precision_1: 0.0986 - val_recall_1: 0.0763\n",
      "Epoch 2/5\n",
      "\u001b[1m92/92\u001b[0m \u001b[32m━━━━━━━━━━━━━━━━━━━━\u001b[0m\u001b[37m\u001b[0m \u001b[1m326s\u001b[0m 4s/step - acc: 0.7438 - auc_1: 0.9338 - loss: 0.7260 - precision_1: 0.7927 - recall_1: 0.6727 - val_acc: 0.1076 - val_auc_1: 0.3636 - val_loss: 4.3641 - val_precision_1: 0.1141 - val_recall_1: 0.0995\n",
      "Epoch 3/5\n",
      "\u001b[1m92/92\u001b[0m \u001b[32m━━━━━━━━━━━━━━━━━━━━\u001b[0m\u001b[37m\u001b[0m \u001b[1m296s\u001b[0m 3s/step - acc: 0.8247 - auc_1: 0.9677 - loss: 0.4982 - precision_1: 0.8758 - recall_1: 0.7882 - val_acc: 0.1172 - val_auc_1: 0.3709 - val_loss: 4.8551 - val_precision_1: 0.1239 - val_recall_1: 0.1131\n",
      "Epoch 4/5\n",
      "\u001b[1m92/92\u001b[0m \u001b[32m━━━━━━━━━━━━━━━━━━━━\u001b[0m\u001b[37m\u001b[0m \u001b[1m296s\u001b[0m 3s/step - acc: 0.8614 - auc_1: 0.9795 - loss: 0.3920 - precision_1: 0.9017 - recall_1: 0.8399 - val_acc: 0.1172 - val_auc_1: 0.3739 - val_loss: 5.1942 - val_precision_1: 0.1232 - val_recall_1: 0.1144\n",
      "Epoch 5/5\n",
      "\u001b[1m92/92\u001b[0m \u001b[32m━━━━━━━━━━━━━━━━━━━━\u001b[0m\u001b[37m\u001b[0m \u001b[1m306s\u001b[0m 3s/step - acc: 0.8963 - auc_1: 0.9878 - loss: 0.2965 - precision_1: 0.9200 - recall_1: 0.8748 - val_acc: 0.1172 - val_auc_1: 0.3709 - val_loss: 5.5166 - val_precision_1: 0.1227 - val_recall_1: 0.1158\n"
     ]
    },
    {
     "data": {
      "text/plain": [
       "<keras.src.callbacks.history.History at 0x2987f0250>"
      ]
     },
     "execution_count": 56,
     "metadata": {},
     "output_type": "execute_result"
    }
   ],
   "source": [
    "model.fit(\n",
    "    train_gen,\n",
    "    validation_data = vaild_gen,\n",
    "    epochs = 5,\n",
    "    validation_steps = None,\n",
    "    shuffle = False,\n",
    "    callbacks = early_stopping,\n",
    "    verbose = 1\n",
    ")\n",
    "#train AI"
   ]
  },
  {
   "cell_type": "code",
   "execution_count": 57,
   "metadata": {},
   "outputs": [],
   "source": [
    "model.save(\"flowers.keras\")\n",
    "#save AI"
   ]
  },
  {
   "cell_type": "code",
   "execution_count": 70,
   "metadata": {},
   "outputs": [
    {
     "name": "stdout",
     "output_type": "stream",
     "text": [
      "\u001b[1m1/1\u001b[0m \u001b[32m━━━━━━━━━━━━━━━━━━━━\u001b[0m\u001b[37m\u001b[0m \u001b[1m1s\u001b[0m 1s/step\n",
      "Your flower is a: 1\n"
     ]
    }
   ],
   "source": [
    "import cv2\n",
    "from tensorflow.keras.saving import load_model\n",
    "import numpy as np\n",
    "\n",
    "model = load_model(\"flowers.keras\")\n",
    "\n",
    "input_image = cv2.imread(\"/Users/Cohort23/Desktop/Programs/Unit-4-ai/flower_photos/daisy/100080576_f52e8ee070_n.jpg\")\n",
    "\n",
    "input_image_resize = cv2.resize(input_image, (224, 224))\n",
    "\n",
    "input_image_scaled = input_image_resize/225\n",
    "image_reshaped = np.reshape(input_image_scaled, [1,224,224,3])\n",
    "\n",
    "input_prediction = model.predict(image_reshaped)\n",
    "print(\"Your flower is a:\", np.argmax(input_prediction))\n",
    "\n",
    "#make the AI make a prediction"
   ]
  }
 ],
 "metadata": {
  "kernelspec": {
   "display_name": "Python 3",
   "language": "python",
   "name": "python3"
  },
  "language_info": {
   "codemirror_mode": {
    "name": "ipython",
    "version": 3
   },
   "file_extension": ".py",
   "mimetype": "text/x-python",
   "name": "python",
   "nbconvert_exporter": "python",
   "pygments_lexer": "ipython3",
   "version": "3.10.8"
  },
  "orig_nbformat": 4,
  "vscode": {
   "interpreter": {
    "hash": "b0fa6594d8f4cbf19f97940f81e996739fb7646882a419484c72d19e05852a7e"
   }
  }
 },
 "nbformat": 4,
 "nbformat_minor": 2
}
