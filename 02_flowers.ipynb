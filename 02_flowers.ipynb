{
 "cells": [
  {
   "cell_type": "code",
   "execution_count": 1,
   "metadata": {},
   "outputs": [],
   "source": [
    "import os\n",
    "import pandas as pd\n",
    "import numpy as np\n",
    "import matplotlib.pyplot as plt\n",
    "\n",
    "import tensorflow as tf\n",
    "from tensorflow.keras.preprocessing.image import ImageDataGenerator\n",
    "from tensorflow.keras.applications.efficientnet import EfficientNetB3\n",
    "from tensorflow.keras import layers\n",
    "from tensorflow.keras.optimizers import Adam\n",
    "\n",
    "from tensorflow.keras.callbacks import EarlyStopping, ReduceLROnPlateau"
   ]
  },
  {
   "cell_type": "code",
   "execution_count": 23,
   "metadata": {},
   "outputs": [
    {
     "name": "stdout",
     "output_type": "stream",
     "text": [
      "                         file_path   label\n",
      "0       16209331331_343c899d38.jpg   roses\n",
      "1        5777669976_a205f61e5b.jpg   roses\n",
      "2      4860145119_b1c3cbaa4e_n.jpg   roses\n",
      "3       15011625580_7974c44bce.jpg   roses\n",
      "4     17953368844_be3d18cf30_m.jpg   roses\n",
      "...                            ...     ...\n",
      "3665      134143359_71fa8dd9a4.jpg  tulips\n",
      "3666     3637371174_a8dfcc1b35.jpg  tulips\n",
      "3667   6948239566_0ac0a124ee_n.jpg  tulips\n",
      "3668     2834890466_1cf220fba1.jpg  tulips\n",
      "3669    13953090784_0c7d7a904e.jpg  tulips\n",
      "\n",
      "[3670 rows x 2 columns]\n"
     ]
    }
   ],
   "source": [
    "data = []\n",
    "for dir, x, files in os.walk(\"flower_photos\"):\n",
    "    label = dir.split(\"/\")[-1]\n",
    "    # print(dir)\n",
    "    # print(\"\")\n",
    "    # print(files)\n",
    "    for file in files:\n",
    "        path = os.path.join(dir, file)\n",
    "        data.append([file, label])\n",
    "\n",
    "df = pd.DataFrame(data, columns = [\"file_path\", \"label\"])\n",
    "print(df)"
   ]
  }
 ],
 "metadata": {
  "kernelspec": {
   "display_name": "Python 3",
   "language": "python",
   "name": "python3"
  },
  "language_info": {
   "codemirror_mode": {
    "name": "ipython",
    "version": 3
   },
   "file_extension": ".py",
   "mimetype": "text/x-python",
   "name": "python",
   "nbconvert_exporter": "python",
   "pygments_lexer": "ipython3",
   "version": "3.10.8"
  },
  "orig_nbformat": 4,
  "vscode": {
   "interpreter": {
    "hash": "b0fa6594d8f4cbf19f97940f81e996739fb7646882a419484c72d19e05852a7e"
   }
  }
 },
 "nbformat": 4,
 "nbformat_minor": 2
}
