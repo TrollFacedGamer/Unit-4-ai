{
 "cells": [
  {
   "cell_type": "code",
   "execution_count": 1,
   "metadata": {},
   "outputs": [],
   "source": [
    "import gpt_2_simple as gpt2\n",
    "\n",
    "session = gpt2.start_tf_sess()"
   ]
  },
  {
   "cell_type": "code",
   "execution_count": 2,
   "metadata": {},
   "outputs": [
    {
     "name": "stderr",
     "output_type": "stream",
     "text": [
      "2024-11-27 10:25:19.730119: I tensorflow/compiler/mlir/mlir_graph_optimization_pass.cc:388] MLIR V1 optimization pass is not enabled\n"
     ]
    },
    {
     "name": "stdout",
     "output_type": "stream",
     "text": [
      "Loading checkpoint models/124M/model.ckpt\n",
      "INFO:tensorflow:Restoring parameters from models/124M/model.ckpt\n",
      "Loading dataset...\n"
     ]
    },
    {
     "name": "stderr",
     "output_type": "stream",
     "text": [
      "100%|██████████| 1/1 [00:00<00:00, 1587.55it/s]"
     ]
    },
    {
     "name": "stdout",
     "output_type": "stream",
     "text": [
      "dataset has 1924 tokens\n",
      "Training...\n"
     ]
    },
    {
     "name": "stderr",
     "output_type": "stream",
     "text": [
      "\n"
     ]
    },
    {
     "name": "stdout",
     "output_type": "stream",
     "text": [
      "[1 | 21.57] loss=2.59 avg=2.59\n",
      "[2 | 42.47] loss=2.24 avg=2.41\n",
      "[3 | 61.45] loss=2.07 avg=2.30\n",
      "[4 | 83.25] loss=1.88 avg=2.19\n",
      "[5 | 101.16] loss=1.67 avg=2.08\n",
      "[6 | 119.85] loss=1.57 avg=2.00\n",
      "[7 | 139.16] loss=1.35 avg=1.90\n",
      "[8 | 158.25] loss=1.26 avg=1.82\n",
      "[9 | 178.46] loss=1.08 avg=1.73\n",
      "[10 | 197.93] loss=0.90 avg=1.65\n",
      "[11 | 217.96] loss=0.82 avg=1.57\n",
      "[12 | 237.13] loss=0.64 avg=1.49\n",
      "[13 | 257.99] loss=0.60 avg=1.41\n",
      "[14 | 278.08] loss=0.38 avg=1.33\n",
      "[15 | 297.33] loss=0.36 avg=1.26\n",
      "[16 | 317.16] loss=0.29 avg=1.20\n",
      "[17 | 336.37] loss=0.27 avg=1.14\n",
      "[18 | 356.19] loss=0.18 avg=1.08\n",
      "[19 | 375.70] loss=0.16 avg=1.03\n",
      "[20 | 395.14] loss=0.16 avg=0.98\n",
      "[21 | 414.55] loss=0.16 avg=0.94\n",
      "[22 | 437.05] loss=0.09 avg=0.90\n",
      "[23 | 457.09] loss=0.20 avg=0.86\n",
      "[24 | 477.35] loss=0.11 avg=0.83\n",
      "[25 | 496.33] loss=0.16 avg=0.80\n",
      "[26 | 514.99] loss=0.11 avg=0.77\n",
      "[27 | 534.19] loss=0.07 avg=0.74\n",
      "[28 | 554.86] loss=0.07 avg=0.71\n",
      "[29 | 574.97] loss=0.06 avg=0.69\n",
      "[30 | 595.01] loss=0.08 avg=0.66\n",
      "[31 | 615.18] loss=0.04 avg=0.64\n",
      "[32 | 635.06] loss=0.07 avg=0.62\n",
      "[33 | 655.11] loss=0.04 avg=0.60\n",
      "[34 | 676.61] loss=0.05 avg=0.58\n",
      "[35 | 697.99] loss=0.04 avg=0.56\n",
      "[36 | 719.59] loss=0.05 avg=0.54\n",
      "[37 | 740.17] loss=0.05 avg=0.53\n",
      "[38 | 759.69] loss=0.03 avg=0.51\n",
      "[39 | 780.11] loss=0.03 avg=0.50\n",
      "[40 | 802.66] loss=0.03 avg=0.48\n",
      "[41 | 821.04] loss=0.03 avg=0.47\n",
      "[42 | 839.81] loss=0.02 avg=0.46\n",
      "[43 | 859.85] loss=0.02 avg=0.44\n",
      "interrupted\n",
      "Saving checkpoint/custom_ai/model-43\n"
     ]
    }
   ],
   "source": [
    "gpt2.finetune(\n",
    "    session, \n",
    "\t\"questions.txt\", \n",
    "\tmodel_name=\"124M\", \n",
    "\tsteps=100, \n",
    "\trun_name=\"custom_ai\"\n",
    ")"
   ]
  },
  {
   "cell_type": "code",
   "execution_count": 3,
   "metadata": {},
   "outputs": [
    {
     "name": "stdout",
     "output_type": "stream",
     "text": [
      "Q: What is a example of a cat?\n",
      "A: Cats are known for their ability to come up with new cat jokes, playmates, and friends.\n",
      "\n",
      "Q: What are the personality traits of a cat?\n",
      "A: The common personality traits of a cat are neuroticism, extraversion, dominance, impulsiveness, and agreeableness.\n",
      "\n",
      "Q: What can a cat do?\n",
      "A: Cats have the instincts to stalk, hunt, and pounce on their prey; this causes them to chase laser pointers and play with yarn, as their unpredictable movements cause them to resemble prey in the eyes of a cat. \n",
      "\n",
      "Q: What is a feline?\n",
      "A: The word feline is another word for cat.\n",
      "\n",
      "Q: What is fur\n",
      "A: Fur is short, fine, and soft hair found in certain animals, usually as a coat that acts as an insulating blanket.\n",
      "\n",
      "Q: What is hair?\n",
      "A: Hairs are thin strands of hardened protein packed into layers that grow from follicles found in the dermis of the skin and are only found in mammals.\n",
      "\n",
      "Q: What are cats afraid of?\n",
      "A: Cats are scared of noisy household appliances, sudden movement and water.\n",
      "\n",
      "Q: Why are cats afraid of water?\n",
      "A: Cats are afraid of water, because wet fur is uncomfortable, takes a long time to dry, drains heat, and reduces their agility, causing them to be easier for predators to catch, addition the water may contain smells that the cat don’t want on themself.\n",
      "\n",
      "Q: What do cats eat?\n",
      "A: Cats are carnivores and primarily consume meat, but can consume some fruits and vegetables in moderation.\n",
      "\n",
      "Q: What do cats drink\n",
      "A: Cats drink water, milk, broth, or tuna juice. However most adult cats are lactose intolerant and can not consume milk.\n",
      "\n",
      "Q: What species of cat are there?\n",
      "A: Some species of cats are the Siamese cat, British Shorthair, Maine Coon, Persian cat, Ragdoll, Sphynx cat, Abyssinian, American Shorthair, Burmese cat, Exotic Shorthair, Birman Scottish Fold.\n",
      "\n",
      "Q: Where can you get cats?\n",
      "A: You can get a cat from a breeder, rescue or homing centre, friends, neighbors, or pet store.\n",
      "\n",
      "Q: What sound do cats make?\n",
      "A: Cats can meow, chatterm hiss, yowl, growl, purr, caterwaul, trill, snarl, and scream.\n",
      "\n",
      "Q: How many cat breeds are there?\n",
      "A: There is no agreed upon number of cat breeds, but the CFA (Cat Fanciers Association) recognizes 42 pedigree breeds of cats, while TICA (the International Cat Association), recognizes 71 cat breeds.\n",
      "\n",
      "Q: What meats do cats eat?\n",
      "A: Cats can eat most meats, especially those belonging to animals they hunt and catch historically, but generally prefer chicken, turkey, beef, lamb, and duck. Cats are also famous for likeling fish meat, because they are attracted to the strong smell of seafood. However, you should avoid giving your cat raw fish as they tend to be contaminated with bacteria, you should also avoid giving your cat smoked or processed meats.\n",
      "\n",
      "Q: What fruits can cats eat?\n",
      "A: Excluding cherries, grapes, and raisins, cats can eat most fruits such as blueberries, apples, bananas, watermelon, strawberries and cantaloupe in moderation.\n",
      " \n",
      "Q: What vegetables can cats eat?\n",
      "A: Excluding soy, wheat, onions, and garlic; cats can eat most vegetables such as Peas, carrots, spinach, cabbage, kale, squash, sweet potatoes, corn, broccoli, and asparagus in moderation.\n",
      " \n",
      "Q: What is a Siamese cat?\n",
      "A: Physically a Siamese cat is a cat with a slim built, long tail, long wedge shaped head, blue eyes, and sometimes crossed eyes or kinked tails.\n",
      "\n",
      "Q: What is the personality of a Siamese cat?\n",
      "A: Personality wise a Siamese cat is social, loyal, affectionate, vocal, and doglike.\n",
      "\n",
      "Q: How do Maine Coon look?\n",
      "A: A Maine Coon is a cat with round paws with hair sticking up from the toes, a head that is longer than it is wide, high cheekbones, a square muzzle, tufted sears, and a heavy and shaggy coat with a ruff on the chest.\n",
      "\n",
      "Q: What is the personality of an average Maine Coon?\n",
      "A: Personality wise an average Maine Coon is intelligent, friendly, and gentle.\n",
      "\n",
      "Q: What are the physical characteristics of British Shorthair?\n",
      "A\n"
     ]
    }
   ],
   "source": [
    "gpt2.generate(session, prefix=\"Q: What is a example of a cat?\")"
   ]
  },
  {
   "cell_type": "code",
   "execution_count": 7,
   "metadata": {},
   "outputs": [
    {
     "name": "stdout",
     "output_type": "stream",
     "text": [
      "Q: What are cats like??\n",
      "A: Cats are short, warm, and wet furless animals whose only characteristic is their ability to speak, write, and act. Cats are also known as nymphs, as their round bodies are cold torn into discrete parts, and they are also known as Midas, Ragdoll, and tick.\n",
      "\n",
      "Q: What is a feline?\n",
      "A: The word feline is another word for cat.\n",
      "\n",
      "Q: What is fur\n",
      "A: Fur is short, fine, and soft hair found in certain animals, usually as a coat that acts as an insulating blanket.\n",
      "\n",
      "Q: What is hair?\n",
      "A: Hairs are thin strands of hardened protein packed into layers that grow from follicles found in the dermis of the skin and are only found in mammals.\n",
      "\n",
      "Q: What are cats afraid of?\n",
      "A: Cats are scared of noisy household appliances, sudden movement and water.\n",
      "\n",
      "Q: Why are cats afraid of water?\n",
      "A: Cats are afraid of water, because wet fur is uncomfortable, takes a long time to dry, drains heat, and reduces their agility, causing them to be easier for predators to catch, addition the water may contain smells that the cat don’t want on themself.\n",
      "\n",
      "Q: What do cats eat?\n",
      "A: Cats are carnivores and primarily consume meat, but can consume some fruits and vegetables in moderation.\n",
      "\n",
      "Q: What do cats drink\n",
      "A: Cats drink water, milk, broth, or tuna juice. However most adult cats are lactose intolerant and can not consume milk.\n",
      "\n",
      "Q: What species of cat are there?\n",
      "A: Some species of cats are the Siamese cat, British Shorthair, Maine Coon, Persian cat, Ragdoll, Sphynx cat, Abyssinian, American Shorthair, Burmese cat, Exotic Shorthair, Birman Scottish Fold.\n",
      "\n",
      "Q: Where can you get cats?\n",
      "A: You can get a cat from a breeder, rescue or homing centre, friends, neighbors, or pet store.\n",
      "\n",
      "Q: What sound do cats make?\n",
      "A: Cats can meow, chatterm hiss, yowl, growl, purr, caterwaul, trill, snarl, and scream.\n",
      "\n",
      "Q: How many cat breeds are there?\n",
      "A: There is no agreed upon number of cat breeds, but the CFA (Cat Fanciers Association) recognizes 42 pedigree breeds of cats, while TICA (the International Cat Association), recognizes 71 cat breeds.\n",
      "\n",
      "Q: What meats do cats eat?\n",
      "A: Cats can eat most meats, especially those belonging to animals they hunt and catch historically, but generally prefer chicken, turkey, beef, lamb, and duck. Cats are also famous for likeling fish meat, because they are attracted to the strong smell of seafood. However, you should avoid giving your cat raw fish as they tend to be contaminated with bacteria, you should also avoid giving your cat smoked or processed meats.\n",
      "\n",
      "Q: What fruits can cats eat?\n",
      "A: Excluding cherries, grapes, and raisins, cats can eat most fruits such as blueberries, apples, bananas, watermelon, strawberries and cantaloupe in moderation.\n",
      " \n",
      "Q: What vegetables can cats eat?\n",
      "A: Excluding soy, wheat, onions, and garlic; cats can eat most vegetables such as Peas, carrots, spinach, cabbage, kale, squash, sweet potatoes, corn, broccoli, and asparagus in moderation.\n",
      "\n",
      "Q: What is a Siamese cat?\n",
      "A: Physically a Siamese cat is a cat with a slim built, long tail, long wedge shaped head, blue eyes, and sometimes crossed eyes or kinked tails.\n",
      "\n",
      "Q: What is the personality of a Siamese cat?\n",
      "A: Personality wise a Siamese cat is social, loyal, affectionate, vocal, and doglike.\n",
      "\n",
      "Q: How do Maine Coon look?\n",
      "A: A Maine Coon is a cat with round paws with hair sticking up from the toes, a head that is longer than it is wide, high cheekbones, a square muzzle, tufted sears, and a heavy and shaggy coat with a ruff on the chest.\n",
      "\n",
      "Q: What is the personality of an average Maine Coon?\n",
      "A: Personality wise an average Maine Coon is intelligent, friendly, and gentle.\n",
      "\n",
      "Q: What are the physical characteristics of British Shorthair?\n",
      "A: The physical characteristics of British Shorthair are very round eyes, wide-set ears with rounded tips, and thick dense fur that can come in more than 30 colors.\n",
      " \n",
      "Q: How do British Shorthairs act?\n",
      "A: British Shorthairs act easy going, placid\n"
     ]
    }
   ],
   "source": [
    "gpt2.generate(session, prefix=\"Q: What are cats like??\")"
   ]
  },
  {
   "cell_type": "code",
   "execution_count": 6,
   "metadata": {},
   "outputs": [
    {
     "name": "stdout",
     "output_type": "stream",
     "text": [
      "Q: What can be considered cat food?\n",
      "A: Cats have the instincts to stalk, hunt, and pounce on their prey; this causes them to chase laser pointers and play with yarn, as their unpredictable movements cause them to resemble prey in the eyes of a cat. \n",
      "\n",
      "\n",
      "\n",
      "Q: What do cats eat?\n",
      "A: Cats are carnivores and primarily consume meat, but can consume some fruits and vegetables in moderation.\n",
      "\n",
      "Q: What do cats drink\n",
      "A: Cats drink water, milk, broth, or tuna juice. However most adult cats are lactose intolerant and can not consume milk.\n",
      "\n",
      "Q: What species of cat are there?\n",
      "A: Some species of cats are the Siamese cat, British Shorthair, Maine Coon, Persian cat, Ragdoll, Sphynx cat, Abyssinian, American Shorthair, Burmese cat, Exotic Shorthair, Birman Scottish Fold.\n",
      "\n",
      "Q: Where can you get cats?\n",
      "A: You can get a cat from a breeder, rescue or homing centre, friends, neighbors, or pet store.\n",
      "\n",
      "Q: What sound do cats make?\n",
      "A: Cats can meow, chatterm hiss, yowl, growl, purr, caterwaul, trill, snarl, and scream.\n",
      "\n",
      "Q: How many cat breeds are there?\n",
      "A: There is no agreed upon number of cat breeds, but the CFA (Cat Fanciers Association) recognizes 42 pedigree breeds of cats, while TICA (the International Cat Association), recognizes 71 cat breeds.\n",
      "\n",
      "Q: What meats do cats eat?\n",
      "A: Cats can eat most meats, especially those belonging to animals they hunt and catch historically, but generally prefer chicken, turkey, beef, lamb, and duck. Cats are also famous for likeling fish meat, because they are attracted to the strong smell of seafood. However, you should avoid giving your cat raw fish as they tend to be contaminated with bacteria, you should also avoid giving your cat smoked or processed meats.\n",
      "\n",
      "Q: What fruits can cats eat?\n",
      "A: Excluding cherries, grapes, and raisins, cats can eat most fruits such as blueberries, apples, bananas, watermelon, strawberries and cantaloupe in moderation.\n",
      " \n",
      "Q: What vegetables can cats eat?\n",
      "A: Excluding soy, wheat, onions, and garlic; cats can eat most vegetables such as Peas, carrots, spinach, cabbage, kale, squash, sweet potatoes, corn, broccoli, and asparagus in moderation.\n",
      " \n",
      "Q: What is a Siamese cat?\n",
      "A: Physically a Siamese cat is a cat with a slim built, long tail, long wedge shaped head, blue eyes, and sometimes crossed eyes or kinked tails.\n",
      "\n",
      "Q: What is the personality of a Siamese cat?\n",
      "A: Personality wise a Siamese cat is social, loyal, affectionate, vocal, and doglike.\n",
      "\n",
      "Q: How do Maine Coon look?\n",
      "A: A Maine Coon is a cat with round paws with hair sticking up from the toes, a head that is longer than it is wide, high cheekbones, a square muzzle, tufted sears, and a heavy and shaggy coat with a ruff on the chest.\n",
      "\n",
      "Q: What is the personality of an average Maine Coon?\n",
      "A: Personality wise an average Maine Coon is intelligent, friendly, and gentle.\n",
      "\n",
      "Q: What are the physical characteristics of British Shorthair?\n",
      "A: The physical characteristics of British Shorthair are very round eyes, wide-set ears with rounded tips, and thick dense fur that can come in more than 30 colors.\n",
      " \n",
      "Q: How do British Shorthairs act?\n",
      "A: British Shorthairs act easy going, placid, loving, loyal, and sometimes playful.\n",
      "\n",
      "Q: What is a Ragdoll?\n",
      "A: Ragdolls are cats with pointed coloration, large round blue eyes, soft, thick coat, thick limbs, long tails, and soft bodies.\n",
      "\n",
      "Q: Are Ragdolls friendly?\n",
      "A: Yes, Ragdolls are affectionate, in addition they are also sociable, attentive, placid, docile, and playful.\n",
      "\n",
      "Q: What is a Sphynx cat?\n",
      "A: Physically a Sphynx cat is a hairless medium sized cat with large ears, lemon shaped eyes, and wrinkly, soft, and warm skin.\n",
      "\n",
      "Q: What are sphinx cats known for?\n",
      "A: Sphynx cats are known for having an outgoing personality.\n",
      " \n",
      "Q: What is an Abyssinian?\n",
      "A: Physically a Abyssinian had a long slim body, long legs, wedge shaped head, almond shaped eyes, oversized pointed\n"
     ]
    }
   ],
   "source": [
    "gpt2.generate(session, prefix=\"Q: What can be considered cat food?\")"
   ]
  }
 ],
 "metadata": {
  "kernelspec": {
   "display_name": "Python 3",
   "language": "python",
   "name": "python3"
  },
  "language_info": {
   "codemirror_mode": {
    "name": "ipython",
    "version": 3
   },
   "file_extension": ".py",
   "mimetype": "text/x-python",
   "name": "python",
   "nbconvert_exporter": "python",
   "pygments_lexer": "ipython3",
   "version": "3.10.8"
  },
  "orig_nbformat": 4,
  "vscode": {
   "interpreter": {
    "hash": "b0fa6594d8f4cbf19f97940f81e996739fb7646882a419484c72d19e05852a7e"
   }
  }
 },
 "nbformat": 4,
 "nbformat_minor": 2
}
